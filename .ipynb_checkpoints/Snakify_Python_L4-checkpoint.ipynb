{
 "cells": [
  {
   "cell_type": "markdown",
   "metadata": {
    "collapsed": true
   },
   "source": [
    "# <font color = 'green'> Snakify Python Lesson 4 : For Loop with Range </font>\n",
    "https://snakify.org/en/lessons/for_loop_range/\n",
    "## <font color = 'blue'> Series 1 </font>\n",
    "\n",
    "Given two integers A and B (A ≤ B). Print all numbers from A to B inclusively.\n",
    "\n",
    "In all the problems input the data using **input()** and print the result using **print()**."
   ]
  },
  {
   "cell_type": "code",
   "execution_count": 1,
   "metadata": {},
   "outputs": [
    {
     "name": "stdout",
     "output_type": "stream",
     "text": [
      "1\n",
      "10\n",
      "1\n",
      "2\n",
      "3\n",
      "4\n",
      "5\n",
      "6\n",
      "7\n",
      "8\n",
      "9\n",
      "10\n"
     ]
    }
   ],
   "source": [
    "# Given two integers A & B (A <= B)\n",
    "A = int(input())\n",
    "B = int(input())\n",
    "\n",
    "# Print all numbers from A to B inclusively\n",
    "for i in range(A, B + 1):\n",
    "    print(i)"
   ]
  },
  {
   "cell_type": "markdown",
   "metadata": {},
   "source": [
    "### <font color = 'red'> MODEL SOLUTION </font>"
   ]
  },
  {
   "cell_type": "code",
   "execution_count": 3,
   "metadata": {},
   "outputs": [
    {
     "name": "stdout",
     "output_type": "stream",
     "text": [
      "1\n",
      "10\n",
      "1\n",
      "2\n",
      "3\n",
      "4\n",
      "5\n",
      "6\n",
      "7\n",
      "8\n",
      "9\n",
      "10\n"
     ]
    }
   ],
   "source": [
    "a = int(input())\n",
    "b = int(input())\n",
    "\n",
    "for i in range(a, b + 1):\n",
    "    print(i)"
   ]
  },
  {
   "cell_type": "markdown",
   "metadata": {},
   "source": [
    "## <font color = 'blue'> Series 2 </font>\n",
    "\n",
    "Given two integers A and B. Print all numbers from A to B inclusively\n",
    "* in ascending order, if A < B, or\n",
    "* in descending order, if A ≥ B.\n",
    "\n",
    "In all the problems input the data using **input()** and print the result using **print()**."
   ]
  },
  {
   "cell_type": "code",
   "execution_count": 4,
   "metadata": {},
   "outputs": [
    {
     "name": "stdout",
     "output_type": "stream",
     "text": [
      "1\n",
      "10\n",
      "1\n",
      "2\n",
      "3\n",
      "4\n",
      "5\n",
      "6\n",
      "7\n",
      "8\n",
      "9\n",
      "10\n"
     ]
    }
   ],
   "source": [
    "# Given two integers A and B\n",
    "A = int(input())\n",
    "B = int(input())\n",
    "\n",
    "# Print all numbers A to B inclusively\n",
    "# in ascending order if A < B\n",
    "# in descending order if A >= B\n",
    "if A < B:\n",
    "    for i in range (A, B + 1):\n",
    "        print(i)\n",
    "else:\n",
    "    for i in range(A, B - 1, -1):\n",
    "        print(i)"
   ]
  },
  {
   "cell_type": "markdown",
   "metadata": {},
   "source": [
    "### <font color = 'red'> MODEL SOLUTION </font>"
   ]
  },
  {
   "cell_type": "code",
   "execution_count": 5,
   "metadata": {},
   "outputs": [
    {
     "name": "stdout",
     "output_type": "stream",
     "text": [
      "1\n",
      "10\n",
      "1\n",
      "2\n",
      "3\n",
      "4\n",
      "5\n",
      "6\n",
      "7\n",
      "8\n",
      "9\n",
      "10\n"
     ]
    }
   ],
   "source": [
    "a = int(input())\n",
    "b = int(input())\n",
    "\n",
    "if a < b:\n",
    "    for i in range(a, b + 1):\n",
    "        print(i)\n",
    "else:\n",
    "    for i in range(a, b - 1, -1):\n",
    "        print(i)"
   ]
  },
  {
   "cell_type": "markdown",
   "metadata": {
    "collapsed": true
   },
   "source": [
    "## <font color = 'blue'> Sum of Ten Numbers </font>\n",
    "\n",
    "10 numbers are given in the input. Read them and print their sum. Use as few variables as you can.\n",
    "\n",
    "In all the problems input the data using **input()** and print the result using **print()**."
   ]
  },
  {
   "cell_type": "code",
   "execution_count": 7,
   "metadata": {},
   "outputs": [
    {
     "name": "stdout",
     "output_type": "stream",
     "text": [
      "0\n",
      "1\n",
      "2\n",
      "3\n",
      "4\n",
      "5\n",
      "6\n",
      "7\n",
      "8\n",
      "9\n",
      "45\n"
     ]
    }
   ],
   "source": [
    "result = 0\n",
    "n = 10\n",
    "\n",
    "for i in range(1, n + 1):\n",
    "    result += int(input())\n",
    "\n",
    "print(result)"
   ]
  },
  {
   "cell_type": "markdown",
   "metadata": {},
   "source": [
    "### <font color = 'red'> MODEL SOLUTION </font>"
   ]
  },
  {
   "cell_type": "code",
   "execution_count": 8,
   "metadata": {},
   "outputs": [
    {
     "name": "stdout",
     "output_type": "stream",
     "text": [
      "0\n",
      "1\n",
      "2\n",
      "3\n",
      "4\n",
      "5\n",
      "6\n",
      "7\n",
      "8\n",
      "9\n",
      "45\n"
     ]
    }
   ],
   "source": [
    "res = 0\n",
    "\n",
    "for i in range(10):\n",
    "    res += int(input())\n",
    "    \n",
    "print(res)"
   ]
  },
  {
   "cell_type": "markdown",
   "metadata": {},
   "source": [
    "## <font color = 'blue'> Sum of N Numbers </font>\n",
    "\n",
    "N numbers are given in the input. Read them and print their sum.\n",
    "\n",
    "The first line of input contains the integer N, which is the number of integers to follow. Each of the next N lines contains one integer. Print the sum of these N integers.\n",
    "\n",
    "In all the problems input the data using **input()** and print the result using **print()**."
   ]
  },
  {
   "cell_type": "code",
   "execution_count": 10,
   "metadata": {},
   "outputs": [
    {
     "name": "stdout",
     "output_type": "stream",
     "text": [
      "10\n",
      "1\n",
      "2\n",
      "1\n",
      "1\n",
      "1\n",
      "1\n",
      "3\n",
      "1\n",
      "1\n",
      "1\n",
      "13\n"
     ]
    }
   ],
   "source": [
    "# N numbers given at the input\n",
    "N = int(input())\n",
    "\n",
    "# Initialize the final sum\n",
    "sum = 0\n",
    "\n",
    "for i in range(N):\n",
    "    sum += int(input())\n",
    "\n",
    "print(sum)"
   ]
  },
  {
   "cell_type": "markdown",
   "metadata": {},
   "source": [
    "### <font color = 'red'> MODEL SOLUTION </font>"
   ]
  },
  {
   "cell_type": "code",
   "execution_count": 11,
   "metadata": {},
   "outputs": [
    {
     "name": "stdout",
     "output_type": "stream",
     "text": [
      "10\n",
      "1\n",
      "2\n",
      "1\n",
      "1\n",
      "1\n",
      "1\n",
      "3\n",
      "1\n",
      "1\n",
      "1\n",
      "13\n"
     ]
    }
   ],
   "source": [
    "n = int(input())\n",
    "res = 0\n",
    "\n",
    "for i in range(n):\n",
    "    res += int(input())\n",
    "\n",
    "print(res)"
   ]
  },
  {
   "cell_type": "markdown",
   "metadata": {},
   "source": [
    "## <font color = 'blue'> Sum of Cubes </font>\n",
    "\n",
    "For the given integer N calculate the following sum:  \n",
    "$1^3 + 2^3 + ... + N^3$\n",
    "\n",
    "In all the problems input the data using **input()** and print the result using **print()**."
   ]
  },
  {
   "cell_type": "code",
   "execution_count": 14,
   "metadata": {},
   "outputs": [
    {
     "name": "stdout",
     "output_type": "stream",
     "text": [
      "3\n",
      "36\n"
     ]
    }
   ],
   "source": [
    "# Given integer N\n",
    "N = int(input())\n",
    "\n",
    "# Initialize total / final sum\n",
    "sum = 0\n",
    "\n",
    "for i in range(1, N + 1):\n",
    "    sum += (i ** 3)\n",
    "\n",
    "print(sum)"
   ]
  },
  {
   "cell_type": "markdown",
   "metadata": {},
   "source": [
    "### <font color = 'red'> MODEL SOLUTION </font>"
   ]
  },
  {
   "cell_type": "code",
   "execution_count": 15,
   "metadata": {},
   "outputs": [
    {
     "name": "stdout",
     "output_type": "stream",
     "text": [
      "3\n",
      "36\n"
     ]
    }
   ],
   "source": [
    "res = 0\n",
    "\n",
    "for i in range(1, int(input()) + 1):\n",
    "    res += i ** 3\n",
    "\n",
    "print(res)"
   ]
  },
  {
   "cell_type": "markdown",
   "metadata": {},
   "source": [
    "## <font color = 'blue'> Factorial </font>\n",
    "\n",
    "In mathematics, the factorial of an integer *n*, denoted by *n!* is the following product::  \n",
    "$n! = 1 x 2 x ... x n$\n",
    "\n",
    "For the given integer *n* calculate the value *n!*.  \n",
    "*Don't use math module in this exercise.*\n",
    "\n",
    "In all the problems input the data using **input()** and print the result using **print()**."
   ]
  },
  {
   "cell_type": "code",
   "execution_count": 1,
   "metadata": {},
   "outputs": [
    {
     "name": "stdout",
     "output_type": "stream",
     "text": [
      "4\n",
      "24\n"
     ]
    }
   ],
   "source": [
    "# For a given interger n\n",
    "n = int(input())\n",
    "\n",
    "# Calculate the value n!\n",
    "# Initialize n_fact\n",
    "n_fact = 1\n",
    "\n",
    "for i in range(1, n + 1):\n",
    "    n_fact = n_fact * i\n",
    "\n",
    "print(n_fact)"
   ]
  },
  {
   "cell_type": "markdown",
   "metadata": {},
   "source": [
    "### <font color = 'red'> MODEL SOLUTION </font>"
   ]
  },
  {
   "cell_type": "code",
   "execution_count": 2,
   "metadata": {},
   "outputs": [
    {
     "name": "stdout",
     "output_type": "stream",
     "text": [
      "4\n",
      "24\n"
     ]
    }
   ],
   "source": [
    "res = 1\n",
    "\n",
    "n = int(input())\n",
    "\n",
    "for i in range(1, n + 1):\n",
    "    res *= i\n",
    "\n",
    "print(res)"
   ]
  },
  {
   "cell_type": "markdown",
   "metadata": {
    "collapsed": true
   },
   "source": [
    "## <font color = 'blue'> The Number of Zeros </font>\n",
    "\n",
    "Given N numbers: the first number in the input is N, after that N integers are given.\n",
    "\n",
    "Count the number of zeros among the given integers and print it.\n",
    "\n",
    "You need to count the number of numbers that are equal to zero, not the number of zero digits.\n",
    "\n",
    "In all the problems input the data using **input()** and print the result using **print()**."
   ]
  },
  {
   "cell_type": "code",
   "execution_count": 1,
   "metadata": {},
   "outputs": [
    {
     "name": "stdout",
     "output_type": "stream",
     "text": [
      "5\n",
      "0\n",
      "700\n",
      "0\n",
      "200\n",
      "2\n",
      "2\n"
     ]
    }
   ],
   "source": [
    "# Given N numbers\n",
    "N = int(input())\n",
    "# input_num = int(input())\n",
    "\n",
    "# Initialize number of zeros\n",
    "num_of_zeros = 0\n",
    "\n",
    "for i in range(1, N + 1):\n",
    "    input_num = int(input())\n",
    "    if input_num == 0:\n",
    "        num_of_zeros = 1 + num_of_zeros\n",
    "\n",
    "print(num_of_zeros)"
   ]
  },
  {
   "cell_type": "markdown",
   "metadata": {
    "collapsed": true
   },
   "source": [
    "### <font color = 'red'> MODEL SOLUTION </font>"
   ]
  },
  {
   "cell_type": "code",
   "execution_count": 2,
   "metadata": {},
   "outputs": [
    {
     "name": "stdout",
     "output_type": "stream",
     "text": [
      "5\n",
      "0\n",
      "700\n",
      "0\n",
      "200\n",
      "2\n",
      "2\n"
     ]
    }
   ],
   "source": [
    "num_zeroes = 0\n",
    "\n",
    "for i in range(int(input())):\n",
    "    if int(input()) == 0:\n",
    "        num_zeroes += 1\n",
    "\n",
    "print(num_zeroes)"
   ]
  },
  {
   "cell_type": "markdown",
   "metadata": {
    "collapsed": true
   },
   "source": [
    "## <font color = 'blue'> Adding Factorials </font>\n",
    "\n",
    "Given an integer n, print the sum $1! + 2! + 3! + ... + n!$.\n",
    "\n",
    "This problem has a solution with only one loop, so try to discover it. And don't use the math library :).\n",
    "\n",
    "In all the problems input the data using **input()** and print the result using **print()**."
   ]
  },
  {
   "cell_type": "code",
   "execution_count": 3,
   "metadata": {},
   "outputs": [
    {
     "name": "stdout",
     "output_type": "stream",
     "text": [
      "1\n",
      "1\n"
     ]
    }
   ],
   "source": [
    "# Given an interger n\n",
    "n = int(input())\n",
    "\n",
    "fact_sum = 0\n",
    "n_fact = 1\n",
    "\n",
    "for i in range(1, n + 1):\n",
    "    nth_num = 1  # in hindsight (after seeing the solution), not sure why I have this ???\n",
    "    n_fact = n_fact * i\n",
    "    fact_sum = fact_sum + n_fact\n",
    "    nth_num = nth_num + 1  # in hindsight (after seeing the solution), not sure why I have this ???\n",
    "\n",
    "print(fact_sum)"
   ]
  },
  {
   "cell_type": "markdown",
   "metadata": {
    "collapsed": true
   },
   "source": [
    "### <font color = 'red'> MODEL SOLUTION </font>"
   ]
  },
  {
   "cell_type": "code",
   "execution_count": 4,
   "metadata": {},
   "outputs": [
    {
     "name": "stdout",
     "output_type": "stream",
     "text": [
      "1\n",
      "1\n"
     ]
    }
   ],
   "source": [
    "n = int(input())\n",
    "\n",
    "partial_factorial = 1\n",
    "partial_sum = 0\n",
    "\n",
    "for i in range(1, n + 1):\n",
    "    partial_factorial *= i\n",
    "    partial_sum += partial_factorial\n",
    "\n",
    "print(partial_sum)"
   ]
  },
  {
   "cell_type": "markdown",
   "metadata": {
    "collapsed": true
   },
   "source": [
    "## <font color = 'blue'> afafaf </font>\n",
    "\n",
    "afaaaafaf.\n",
    "\n",
    "In all the problems input the data using **input()** and print the result using **print()**."
   ]
  },
  {
   "cell_type": "code",
   "execution_count": null,
   "metadata": {
    "collapsed": true
   },
   "outputs": [],
   "source": []
  },
  {
   "cell_type": "markdown",
   "metadata": {},
   "source": [
    "### <font color = 'red'> MODEL SOLUTION </font>"
   ]
  },
  {
   "cell_type": "code",
   "execution_count": null,
   "metadata": {
    "collapsed": true
   },
   "outputs": [],
   "source": []
  },
  {
   "cell_type": "code",
   "execution_count": null,
   "metadata": {
    "collapsed": true
   },
   "outputs": [],
   "source": []
  },
  {
   "cell_type": "code",
   "execution_count": null,
   "metadata": {
    "collapsed": true
   },
   "outputs": [],
   "source": []
  },
  {
   "cell_type": "code",
   "execution_count": null,
   "metadata": {
    "collapsed": true
   },
   "outputs": [],
   "source": []
  },
  {
   "cell_type": "code",
   "execution_count": null,
   "metadata": {
    "collapsed": true
   },
   "outputs": [],
   "source": []
  },
  {
   "cell_type": "code",
   "execution_count": null,
   "metadata": {
    "collapsed": true
   },
   "outputs": [],
   "source": []
  }
 ],
 "metadata": {
  "anaconda-cloud": {},
  "kernelspec": {
   "display_name": "Python [Root]",
   "language": "python",
   "name": "Python [Root]"
  },
  "language_info": {
   "codemirror_mode": {
    "name": "ipython",
    "version": 3
   },
   "file_extension": ".py",
   "mimetype": "text/x-python",
   "name": "python",
   "nbconvert_exporter": "python",
   "pygments_lexer": "ipython3",
   "version": "3.5.2"
  }
 },
 "nbformat": 4,
 "nbformat_minor": 1
}
