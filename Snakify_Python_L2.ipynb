{
 "cells": [
  {
   "cell_type": "markdown",
   "metadata": {
    "collapsed": true
   },
   "source": [
    "# <font color = 'green'> Snakify Python Lesson 2 : Interger and Float Numbers </font>\n",
    "https://snakify.org/en/lessons/integer_float_numbers/\n",
    "## <font color = 'blue'> Last Digit of Integer </font>\n",
    "\n",
    "Given an integer number, print its last digit.\n",
    "\n",
    "In all the problems input the data using **input()** and print the result using **print()**."
   ]
  },
  {
   "cell_type": "code",
   "execution_count": 1,
   "metadata": {},
   "outputs": [
    {
     "name": "stdout",
     "output_type": "stream",
     "text": [
      "179\n",
      "9\n"
     ]
    }
   ],
   "source": [
    "x = input()\n",
    "print(x[-1])"
   ]
  },
  {
   "cell_type": "markdown",
   "metadata": {
    "collapsed": true
   },
   "source": [
    "### <font color = 'red'> MODEL SOLUTION </font>"
   ]
  },
  {
   "cell_type": "code",
   "execution_count": 2,
   "metadata": {},
   "outputs": [
    {
     "name": "stdout",
     "output_type": "stream",
     "text": [
      "179\n",
      "9\n"
     ]
    }
   ],
   "source": [
    "a = int(input())\n",
    "print(a % 10)"
   ]
  },
  {
   "cell_type": "markdown",
   "metadata": {
    "collapsed": true
   },
   "source": [
    "## <font color = 'blue'> Tens Digit </font>\n",
    "\n",
    "Given an integer. Print its tens digit.\n",
    "\n",
    "In all the problems input the data using **input()** and print the result using **print()**."
   ]
  },
  {
   "cell_type": "code",
   "execution_count": 3,
   "metadata": {},
   "outputs": [
    {
     "name": "stdout",
     "output_type": "stream",
     "text": [
      "73\n",
      "7\n"
     ]
    }
   ],
   "source": [
    "import math\n",
    "\n",
    "x = int(input())\n",
    "x = math.floor((x / 10) % 10)\n",
    "print(x)"
   ]
  },
  {
   "cell_type": "markdown",
   "metadata": {
    "collapsed": true
   },
   "source": [
    "### <font color = 'red'> MODEL SOLUTION </font>"
   ]
  },
  {
   "cell_type": "code",
   "execution_count": 4,
   "metadata": {},
   "outputs": [
    {
     "name": "stdout",
     "output_type": "stream",
     "text": [
      "73\n",
      "7\n"
     ]
    }
   ],
   "source": [
    "n = int(input())\n",
    "print(n // 10 % 10)"
   ]
  },
  {
   "cell_type": "markdown",
   "metadata": {},
   "source": [
    "## <font color = 'blue'> Sum of Digits </font>\n",
    "\n",
    "Given a three-digit number. Find the sum of its digits.\n",
    "\n",
    "In all the problems input the data using **input()** and print the result using **print()**."
   ]
  },
  {
   "cell_type": "code",
   "execution_count": 6,
   "metadata": {},
   "outputs": [
    {
     "name": "stdout",
     "output_type": "stream",
     "text": [
      "179\n",
      "17\n"
     ]
    }
   ],
   "source": [
    "n = int(input())\n",
    "print((n % 10) + ((n // 10) % 10) + (n // 100) % 10)"
   ]
  },
  {
   "cell_type": "markdown",
   "metadata": {},
   "source": [
    "### <font color = 'red'> MODEL SOLUTION </font>"
   ]
  },
  {
   "cell_type": "code",
   "execution_count": 7,
   "metadata": {},
   "outputs": [
    {
     "name": "stdout",
     "output_type": "stream",
     "text": [
      "179\n",
      "17\n"
     ]
    }
   ],
   "source": [
    "n = int(input())\n",
    "\n",
    "a = n // 100 # hundredth\n",
    "b = n // 10 % 10 # tenth\n",
    "c = n % 10 # unit\n",
    "\n",
    "print(a + b + c)"
   ]
  },
  {
   "cell_type": "markdown",
   "metadata": {
    "collapsed": true
   },
   "source": [
    "## <font color = 'blue'> Fractional Part </font>\n",
    "\n",
    "Given a positive real number, print its fractional part.\n",
    "\n",
    "In all the problems input the data using **input()** and print the result using **print()**."
   ]
  },
  {
   "cell_type": "code",
   "execution_count": 8,
   "metadata": {},
   "outputs": [
    {
     "name": "stdout",
     "output_type": "stream",
     "text": [
      "179\n",
      "0.0\n"
     ]
    }
   ],
   "source": [
    "a = float(input())\n",
    "\n",
    "fract_a = (a - int(a))\n",
    "print(fract_a)"
   ]
  },
  {
   "cell_type": "markdown",
   "metadata": {},
   "source": [
    "### <font color = 'red'> MODEL SOLUTION </font>"
   ]
  },
  {
   "cell_type": "code",
   "execution_count": 9,
   "metadata": {},
   "outputs": [
    {
     "name": "stdout",
     "output_type": "stream",
     "text": [
      "179\n",
      "0.0\n"
     ]
    }
   ],
   "source": [
    "x = float(input())\n",
    "print(x - int(x))"
   ]
  },
  {
   "cell_type": "markdown",
   "metadata": {},
   "source": [
    "## <font color = 'blue'> First Digit after Decimal Point </font>\n",
    "\n",
    "Given a positive real number, print its first digit to the right of the decimal point.\n",
    "\n",
    "In all the problems input the data using **input()** and print the result using **print()**."
   ]
  },
  {
   "cell_type": "code",
   "execution_count": 10,
   "metadata": {},
   "outputs": [
    {
     "name": "stdout",
     "output_type": "stream",
     "text": [
      "1.79\n",
      "7\n"
     ]
    }
   ],
   "source": [
    "x = float(input())\n",
    "dec1 = str(x - int(x))[2]\n",
    "print(dec1)"
   ]
  },
  {
   "cell_type": "markdown",
   "metadata": {},
   "source": [
    "### <font color = 'red'> MODEL SOLUTION </font>"
   ]
  },
  {
   "cell_type": "code",
   "execution_count": 11,
   "metadata": {},
   "outputs": [
    {
     "name": "stdout",
     "output_type": "stream",
     "text": [
      "1.79\n",
      "7\n"
     ]
    }
   ],
   "source": [
    "x = float(input())\n",
    "print(int(x * 10) % 10)"
   ]
  },
  {
   "cell_type": "markdown",
   "metadata": {},
   "source": [
    "## <font color = 'blue'> Car Route </font>\n",
    "\n",
    "A car can cover distance of N kilometers per day. How many days will it take to cover a route of length M kilometers? The program gets two numbers: N and M.\n",
    "\n",
    "In all the problems input the data using **input()** and print the result using **print()**."
   ]
  },
  {
   "cell_type": "code",
   "execution_count": 1,
   "metadata": {},
   "outputs": [
    {
     "name": "stdout",
     "output_type": "stream",
     "text": [
      "700\n",
      "750\n",
      "2\n"
     ]
    }
   ],
   "source": [
    "import math\n",
    "\n",
    "car_distance = int(input())\n",
    "route_length = int(input())\n",
    "\n",
    "# Number of days to cover given route length\n",
    "days = math.ceil(route_length / car_distance)\n",
    "\n",
    "print(days)"
   ]
  },
  {
   "cell_type": "markdown",
   "metadata": {},
   "source": [
    "### <font color = 'red'> MODEL SOLUTION </font>"
   ]
  },
  {
   "cell_type": "code",
   "execution_count": 2,
   "metadata": {},
   "outputs": [
    {
     "name": "stdout",
     "output_type": "stream",
     "text": [
      "700\n",
      "750\n",
      "2\n"
     ]
    }
   ],
   "source": [
    "from math import ceil\n",
    "\n",
    "n = int(input()) # car distance\n",
    "m = int(input()) # route length\n",
    "\n",
    "print(ceil(m / n))"
   ]
  },
  {
   "cell_type": "markdown",
   "metadata": {
    "collapsed": true
   },
   "source": [
    "## <font color = 'blue'> Digital Clock </font>\n",
    "\n",
    "Given the integer N - the number of minutes that is passed since midnight - how many hours and minutes are displayed on the 24h digital clock?\n",
    "The program should print two numbers: the number of hours (between 0 and 23) and the number of minutes (between 0 and 59).\n",
    "\n",
    "For example, if N = 150, then 150 minutes have passed since midnight - i.e. now is 2:30 am. So the program should print 2 30.\n",
    "\n",
    "In all the problems input the data using **input()** and print the result using **print()**."
   ]
  },
  {
   "cell_type": "code",
   "execution_count": 1,
   "metadata": {},
   "outputs": [
    {
     "name": "stdout",
     "output_type": "stream",
     "text": [
      "150\n",
      "2 30\n"
     ]
    }
   ],
   "source": [
    "n = int(input())\n",
    "\n",
    "hr = n // 60\n",
    "minute = n % 60\n",
    "\n",
    "print(hr, minute)"
   ]
  },
  {
   "cell_type": "markdown",
   "metadata": {},
   "source": [
    "### <font color = 'red'> MODEL SOLUTION </font>"
   ]
  },
  {
   "cell_type": "code",
   "execution_count": 2,
   "metadata": {},
   "outputs": [
    {
     "name": "stdout",
     "output_type": "stream",
     "text": [
      "150\n",
      "2 30\n"
     ]
    }
   ],
   "source": [
    "n = int(input())\n",
    "\n",
    "hours = n // 60\n",
    "minutes = n % 60\n",
    "\n",
    "print(hours, minutes)"
   ]
  },
  {
   "cell_type": "markdown",
   "metadata": {
    "collapsed": true
   },
   "source": [
    "## <font color = 'blue'> Total Cost </font>\n",
    "\n",
    "A cupcake costs A dollars and B cents. Determine, how many dollars and cents should one pay for N cupcakes. A program gets three numbers: A, B, N. It should print two numbers: total cost in dollars and cents.\n",
    "\n",
    "In all the problems input the data using **input()** and print the result using **print()**."
   ]
  },
  {
   "cell_type": "code",
   "execution_count": 79,
   "metadata": {},
   "outputs": [
    {
     "name": "stdout",
     "output_type": "stream",
     "text": [
      "905\n",
      "79\n",
      "496\n",
      "449271 84\n"
     ]
    }
   ],
   "source": [
    "# TEST SOLUTION 1\n",
    "# 905\n",
    "# 79\n",
    "# 496\n",
    "A = float(input())\n",
    "B = float(input()) / 100\n",
    "\n",
    "cash_on_hand = A + B\n",
    "\n",
    "N = int(input())\n",
    "\n",
    "# Total price for N cupcakes\n",
    "total_price = cash_on_hand * N\n",
    "\n",
    "# dollar part\n",
    "dollar = int(total_price)\n",
    "\n",
    "# cent part\n",
    "# cent = int((total_price - int(total_price)) * 100)\n",
    "cent_rnd = round((total_price - int(total_price)), 2)\n",
    "cent = int(cent_rnd * 100)\n",
    "\n",
    "# Total in dollar & cent for N cupcakes\n",
    "print(dollar, cent)"
   ]
  },
  {
   "cell_type": "code",
   "execution_count": 77,
   "metadata": {},
   "outputs": [
    {
     "name": "stdout",
     "output_type": "stream",
     "text": [
      "905.79\n",
      "449271.83999999997\n",
      "449271\n",
      "0.84\n",
      "84\n"
     ]
    }
   ],
   "source": [
    "# TEST CELL (1)\n",
    "print(cash_on_hand)\n",
    "print(total_price)\n",
    "print(dollar)\n",
    "\n",
    "print(cent_rnd)\n",
    "print(cent)"
   ]
  },
  {
   "cell_type": "markdown",
   "metadata": {},
   "source": [
    "### <font color = 'red'> MODEL SOLUTION </font>"
   ]
  },
  {
   "cell_type": "code",
   "execution_count": 78,
   "metadata": {},
   "outputs": [
    {
     "name": "stdout",
     "output_type": "stream",
     "text": [
      "905\n",
      "79\n",
      "496\n",
      "449271 84\n"
     ]
    }
   ],
   "source": [
    "a = int(input())\n",
    "b = int(input())\n",
    "n = int(input())\n",
    "\n",
    "cost = n * (100 * a + b)\n",
    "print(cost // 100, cost % 100)"
   ]
  },
  {
   "cell_type": "markdown",
   "metadata": {
    "collapsed": true
   },
   "source": [
    "## <font color = 'blue'> Clock Face 1 </font>\n",
    "\n",
    "H hours, M minutes and S seconds are passed since the midnight (0 ≤ H < 12, 0 ≤ M < 60, 0 ≤ S < 60). Determine the angle (in degrees) of the hour hand on the clock face right now.\n",
    "\n",
    "In all the problems input the data using **input()** and print the result using **print()**."
   ]
  },
  {
   "cell_type": "code",
   "execution_count": 1,
   "metadata": {},
   "outputs": [
    {
     "name": "stdout",
     "output_type": "stream",
     "text": [
      "1\n",
      "2\n",
      "6\n",
      "31.05\n"
     ]
    }
   ],
   "source": [
    "# Input hours (H), minutes (M) and second (S) from user\n",
    "H = float(input())\n",
    "M = float(input())\n",
    "S = float(input())\n",
    "\n",
    "# Requested : angle for the hour hand.  Convert the minutes and seconds to hour\n",
    "M = M /60\n",
    "S = S / 3600\n",
    "\n",
    "# Hour hand moves 30deg per hour for a 12 hour face clock\n",
    "# Converting the hour hand movement to degrees\n",
    "H_deg = H * 30\n",
    "\n",
    "# Converting the minute (converted to hour) hand movement to degrees\n",
    "M_deg = M * 30\n",
    "\n",
    "# Converting the second (converted to hour) hand movement to degrees\n",
    "S_deg = S * 30\n",
    "\n",
    "# TOTAL hour hand movement in degrees\n",
    "T_deg = H_deg + M_deg + S_deg\n",
    "\n",
    "print(T_deg)"
   ]
  },
  {
   "cell_type": "markdown",
   "metadata": {
    "collapsed": true
   },
   "source": [
    "### <font color = 'red'> MODEL SOLUTION </font>"
   ]
  },
  {
   "cell_type": "code",
   "execution_count": 2,
   "metadata": {},
   "outputs": [
    {
     "name": "stdout",
     "output_type": "stream",
     "text": [
      "1\n",
      "2\n",
      "6\n",
      "31.05\n"
     ]
    }
   ],
   "source": [
    "h = int(input())\n",
    "m = int(input())\n",
    "s = int(input())\n",
    "\n",
    "print(h * 30 + m * 30 / 60 + s * 30 / 3600)"
   ]
  },
  {
   "cell_type": "markdown",
   "metadata": {},
   "source": [
    "## <font color = 'blue'> Clock Face 2 </font>\n",
    "\n",
    "Hour hand turned by α degrees since the midnight.\n",
    "\n",
    "Determine the angle by which minute hand turned since the start of the current hour. Input and output in this problems are floating-point numbers..\n",
    "\n",
    "In all the problems input the data using **input()** and print the result using **print()**."
   ]
  },
  {
   "cell_type": "code",
   "execution_count": 8,
   "metadata": {},
   "outputs": [
    {
     "name": "stdout",
     "output_type": "stream",
     "text": [
      "190\n"
     ]
    }
   ],
   "source": [
    "# Inputs\n",
    "# Degrees by which hour hand has turned\n",
    "deg_hr = float(input())\n",
    "\n",
    "# Degree by which hour had has turned split into hr and min\n",
    "deg_split = deg_hr / 30\n",
    "\n",
    "# Fractional part of deg_split, i.e.: the minute part in hours\n",
    "deg_split_frac = deg_split - int(deg_split)\n",
    "\n",
    "# Fractional part converted to min\n",
    "minute = deg_split_frac * 60\n",
    "\n",
    "# 1 minute is equivalent to 6 deg on the 12 hour clock\n",
    "# Hence the minute in question\n",
    "deg_min = minute * 6"
   ]
  },
  {
   "cell_type": "code",
   "execution_count": 9,
   "metadata": {},
   "outputs": [
    {
     "name": "stdout",
     "output_type": "stream",
     "text": [
      "190.0\n",
      "6.333333333333333\n",
      "0.33333333333333304\n",
      "19.999999999999982\n",
      "119.99999999999989\n"
     ]
    }
   ],
   "source": [
    "# TEST CELL\n",
    "print(deg_hr)\n",
    "print(deg_split)\n",
    "print(deg_split_frac)\n",
    "print(minute)\n",
    "print(deg_min)"
   ]
  },
  {
   "cell_type": "markdown",
   "metadata": {},
   "source": [
    "### <font color = 'red'> MODEL SOLUTION </font>"
   ]
  },
  {
   "cell_type": "code",
   "execution_count": 10,
   "metadata": {},
   "outputs": [
    {
     "name": "stdout",
     "output_type": "stream",
     "text": [
      "190\n",
      "120.0\n"
     ]
    }
   ],
   "source": [
    "alpha = float(input())\n",
    "print(alpha % 30 * 12)"
   ]
  },
  {
   "cell_type": "code",
   "execution_count": null,
   "metadata": {
    "collapsed": true
   },
   "outputs": [],
   "source": []
  }
 ],
 "metadata": {
  "anaconda-cloud": {},
  "kernelspec": {
   "display_name": "Python [Root]",
   "language": "python",
   "name": "Python [Root]"
  },
  "language_info": {
   "codemirror_mode": {
    "name": "ipython",
    "version": 3
   },
   "file_extension": ".py",
   "mimetype": "text/x-python",
   "name": "python",
   "nbconvert_exporter": "python",
   "pygments_lexer": "ipython3",
   "version": "3.5.2"
  }
 },
 "nbformat": 4,
 "nbformat_minor": 1
}
