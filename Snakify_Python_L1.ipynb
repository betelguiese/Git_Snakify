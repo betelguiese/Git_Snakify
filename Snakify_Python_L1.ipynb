{
 "cells": [
  {
   "cell_type": "markdown",
   "metadata": {},
   "source": [
    "# Test"
   ]
  },
  {
   "cell_type": "code",
   "execution_count": 1,
   "metadata": {},
   "outputs": [
    {
     "name": "stdout",
     "output_type": "stream",
     "text": [
      "a\n"
     ]
    }
   ],
   "source": [
    "# Test input() function in iPython Notebook, and see how it works\n",
    "a = input()"
   ]
  },
  {
   "cell_type": "code",
   "execution_count": 2,
   "metadata": {},
   "outputs": [
    {
     "name": "stdout",
     "output_type": "stream",
     "text": [
      "a\n"
     ]
    }
   ],
   "source": [
    "print(a)"
   ]
  },
  {
   "cell_type": "code",
   "execution_count": 7,
   "metadata": {},
   "outputs": [
    {
     "name": "stdout",
     "output_type": "stream",
     "text": [
      "Hello World\n"
     ]
    }
   ],
   "source": [
    "# Test the following to see what happens\n",
    "# Test 1 : below is how you run a python file through iPython Notebook\n",
    "%run hello.py"
   ]
  },
  {
   "cell_type": "markdown",
   "metadata": {},
   "source": [
    "# <font color = 'green'> Snakify Python Lesson 1 : Input, Print and Numbers </font>\n",
    "https://snakify.org/en/lessons/print_input_numbers/\n",
    "## <font color = 'blue'> Previous and Next </font>\n",
    "\n",
    "Write a program that reads an integer number and prints its previous and next numbers. See the examples below for the exact format your answers should take. There shouldn't be a space before the period.\n",
    "\n",
    "Remember that you can convert the numbers to strings using the function **str**.\n",
    "\n",
    "In all the problems input the data using **input()** and print the result using **print()**."
   ]
  },
  {
   "cell_type": "code",
   "execution_count": 1,
   "metadata": {},
   "outputs": [
    {
     "name": "stdout",
     "output_type": "stream",
     "text": [
      "179\n",
      "The next number for the number 179 is 180.\n",
      "The previous number for the number 179 is 178.\n"
     ]
    }
   ],
   "source": [
    "a = int(input())\n",
    "nxt = a + 1\n",
    "prev = a - 1\n",
    "\n",
    "# Convert the respective int variables to str variables\n",
    "a = str(a)\n",
    "nxt = str(nxt)\n",
    "prev = str(prev)\n",
    "\n",
    "print(\"The next number for the number \" + a + \" is \" + nxt + \".\")\n",
    "print(\"The previous number for the number \" + a + \" is \" + prev + \".\")"
   ]
  },
  {
   "cell_type": "markdown",
   "metadata": {},
   "source": [
    "### <font color = 'red'> MODEL SOLUTION </font>"
   ]
  },
  {
   "cell_type": "code",
   "execution_count": 2,
   "metadata": {},
   "outputs": [
    {
     "name": "stdout",
     "output_type": "stream",
     "text": [
      "179\n",
      "The next number for the number 179 is 180.\n",
      "The previous number for the number 179 is 178.\n"
     ]
    }
   ],
   "source": [
    "n = int(input())\n",
    "print('The next number for the number ' + str(n) + ' is ' + str(n + 1) + '.')\n",
    "print('The previous number for the number ' + str(n) + ' is ' + str(n - 1) + '.')"
   ]
  },
  {
   "cell_type": "markdown",
   "metadata": {},
   "source": [
    "## <font color = 'blue'> Two Timestamps </font>\n",
    "\n",
    "A timestamp is three numbers: a number of hours, minutes and seconds. Given two timestamps, calculate how many seconds is between them. The moment of the first timestamp occurred before the moment of the second timestamp.\n",
    "\n",
    "In all the problems input the data using **input()** and print the result using **print()**."
   ]
  },
  {
   "cell_type": "code",
   "execution_count": 6,
   "metadata": {},
   "outputs": [
    {
     "name": "stdout",
     "output_type": "stream",
     "text": [
      "1\n",
      "1\n",
      "1\n",
      "3661\n"
     ]
    }
   ],
   "source": [
    "# TIMESTAMP 1\n",
    "# -----------\n",
    "# Timestamp1 hr.  Multiplied by 3600 to convert directly to second\n",
    "hr1 = int(input()) * 3600\n",
    "\n",
    "# Timestamp1 min. Multiplied by 60 to convert directly to second\n",
    "min1 = int(input()) * 60\n",
    "\n",
    "# Timestamp1 sec\n",
    "sec1 = int(input())\n",
    "\n",
    "# TIMESTAMP 1 in seconds\n",
    "TS1 = hr1 + min1 + sec1\n",
    "print(TS1)"
   ]
  },
  {
   "cell_type": "code",
   "execution_count": 7,
   "metadata": {},
   "outputs": [
    {
     "name": "stdout",
     "output_type": "stream",
     "text": [
      "2\n",
      "2\n",
      "2\n",
      "7322\n"
     ]
    }
   ],
   "source": [
    "# TIMESTAMP 2\n",
    "# -----------\n",
    "# Timestamp2 hr.  Multiplied by 3600 to convert directly to second\n",
    "hr2 = int(input()) * 3600\n",
    "\n",
    "# Timestamp2 min. Multiplied by 60 to convert directly to second\n",
    "min2 = int(input()) * 60\n",
    "\n",
    "# Timestamp2 sec\n",
    "sec2 = int(input())\n",
    "\n",
    "# TIMESTAMP 2 in seconds\n",
    "TS2 = hr2 + min2 + sec2\n",
    "print(TS2)"
   ]
  },
  {
   "cell_type": "code",
   "execution_count": 8,
   "metadata": {},
   "outputs": [
    {
     "name": "stdout",
     "output_type": "stream",
     "text": [
      "3661\n"
     ]
    }
   ],
   "source": [
    "# CALCULATION : Time lapse in seconds between TS2 and TS1\n",
    "# -----------------------------------------\n",
    "TL = TS2 - TS1\n",
    "print(TL)"
   ]
  },
  {
   "cell_type": "markdown",
   "metadata": {},
   "source": [
    "### <font color = 'red'> MODEL SOLUTION </font>"
   ]
  },
  {
   "cell_type": "code",
   "execution_count": 9,
   "metadata": {},
   "outputs": [
    {
     "name": "stdout",
     "output_type": "stream",
     "text": [
      "6\n",
      "1\n",
      "30\n"
     ]
    }
   ],
   "source": [
    "# TIMESTAMP1\n",
    "hours_1 = int(input())\n",
    "minutes_1 = int(input())\n",
    "seconds_1 = int(input())"
   ]
  },
  {
   "cell_type": "code",
   "execution_count": 10,
   "metadata": {},
   "outputs": [
    {
     "name": "stdout",
     "output_type": "stream",
     "text": [
      "6\n",
      "2\n",
      "10\n"
     ]
    }
   ],
   "source": [
    "# TIMESTAMP2\n",
    "hours_2 = int(input())\n",
    "minutes_2 = int(input())\n",
    "seconds_2 = int(input())"
   ]
  },
  {
   "cell_type": "code",
   "execution_count": 11,
   "metadata": {},
   "outputs": [
    {
     "name": "stdout",
     "output_type": "stream",
     "text": [
      "40\n"
     ]
    }
   ],
   "source": [
    "# TIME LAPSE BETWEEN TS2 AND TS1\n",
    "print(hours_2 * 3600 + minutes_2 * 60 + seconds_2\n",
    "    - hours_1 * 3600 - minutes_1 * 60 - seconds_1)"
   ]
  },
  {
   "cell_type": "markdown",
   "metadata": {},
   "source": [
    "## <font color = 'blue'> School Desks </font>\n",
    "\n",
    "A school decided to replace the desks in three classrooms. Each desk sits two students. Given the number of students in each class, print the smallest possible number of desks that can be purchased.\n",
    "\n",
    "The program should read three integers: the number of students in each of the three classes, a, b and c respectively.\n",
    "\n",
    "In the first test there are three groups. The first group has 20 students and thus needs 10 desks. The second group has 21 students, so they can get by with no fewer than 11 desks. 11 desks is also enough for the third group of 22 students. So we need 32 desks in total.\n",
    "\n",
    "In all the problems input the data using **input()** and print the result using **print()**."
   ]
  },
  {
   "cell_type": "code",
   "execution_count": 4,
   "metadata": {},
   "outputs": [
    {
     "name": "stdout",
     "output_type": "stream",
     "text": [
      "20\n",
      "21\n",
      "22\n"
     ]
    }
   ],
   "source": [
    "# Read in three integers, i.e.: number of students in each of the three classes\n",
    "# Number of students in class A\n",
    "\n",
    "A = int(input())\n",
    "# Check if number of students is odd or even.\n",
    "# To add 1 if number of students is odd.  To even out the number\n",
    "if A % 2 != 0 :\n",
    "    A += 1\n",
    "\n",
    "# Number of students in class B\n",
    "B = int(input())\n",
    "if B % 2 != 0 :\n",
    "    B += 1\n",
    "\n",
    "# Number of students in class C\n",
    "C = int(input())\n",
    "if C % 2 != 0 :\n",
    "    C += 1"
   ]
  },
  {
   "cell_type": "code",
   "execution_count": 5,
   "metadata": {},
   "outputs": [
    {
     "name": "stdout",
     "output_type": "stream",
     "text": [
      "10\n",
      "11\n",
      "11\n"
     ]
    }
   ],
   "source": [
    "# Smallest number of desks for each class\n",
    "# Smallest number of desks for class A\n",
    "A_desk = A // 2\n",
    "print(A_desk)\n",
    "\n",
    "# Smallest number of desks for class B\n",
    "B_desk = B // 2\n",
    "print(B_desk)\n",
    "\n",
    "# Smallest number of desks for class C\n",
    "C_desk = C // 2\n",
    "print(C_desk)"
   ]
  },
  {
   "cell_type": "code",
   "execution_count": 6,
   "metadata": {},
   "outputs": [
    {
     "name": "stdout",
     "output_type": "stream",
     "text": [
      "32\n"
     ]
    }
   ],
   "source": [
    "# Smallest possible number of desks that can be purchased.\n",
    "# i.e.: smallest number of desk for class A + smallest number of desk for class B + smallest number of desk for class C\n",
    "Total_Desk = A_desk + B_desk + C_desk\n",
    "print(Total_Desk)"
   ]
  },
  {
   "cell_type": "markdown",
   "metadata": {
    "collapsed": true
   },
   "source": [
    "### <font color = 'red'> MODEL SOLUTION </font>"
   ]
  },
  {
   "cell_type": "code",
   "execution_count": 7,
   "metadata": {},
   "outputs": [
    {
     "name": "stdout",
     "output_type": "stream",
     "text": [
      "20\n",
      "21\n",
      "22\n",
      "32\n"
     ]
    }
   ],
   "source": [
    "a = int(input())\n",
    "b = int(input())\n",
    "c = int(input())\n",
    "\n",
    "print(a // 2 + b // 2 + c // 2 + a % 2 + b % 2 + c % 2)"
   ]
  },
  {
   "cell_type": "code",
   "execution_count": null,
   "metadata": {
    "collapsed": true
   },
   "outputs": [],
   "source": []
  }
 ],
 "metadata": {
  "anaconda-cloud": {},
  "kernelspec": {
   "display_name": "Python [Root]",
   "language": "python",
   "name": "Python [Root]"
  },
  "language_info": {
   "codemirror_mode": {
    "name": "ipython",
    "version": 3
   },
   "file_extension": ".py",
   "mimetype": "text/x-python",
   "name": "python",
   "nbconvert_exporter": "python",
   "pygments_lexer": "ipython3",
   "version": "3.5.2"
  }
 },
 "nbformat": 4,
 "nbformat_minor": 1
}
