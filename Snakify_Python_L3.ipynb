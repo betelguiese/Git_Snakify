{
 "cells": [
  {
   "cell_type": "markdown",
   "metadata": {},
   "source": [
    "# <font color = 'green'> Snakify Python Lesson 3 : Conditions : if, then, else </font>\n",
    "https://snakify.org/en/lessons/if_then_else_conditions/\n",
    "## <font color = 'blue'> Minimum of Two Numbers </font>\n",
    "\n",
    "Given two integers, print the smaller value.\n",
    "\n",
    "In all the problems input the data using **input()** and print the result using **print()**."
   ]
  },
  {
   "cell_type": "code",
   "execution_count": 1,
   "metadata": {},
   "outputs": [
    {
     "name": "stdout",
     "output_type": "stream",
     "text": [
      "3\n",
      "7\n",
      "3\n"
     ]
    }
   ],
   "source": [
    "int_1 = int(input())\n",
    "int_2 = int(input())\n",
    "\n",
    "if int_1 < int_2:\n",
    "    print(int_1)\n",
    "else:\n",
    "    print(int_2)"
   ]
  },
  {
   "cell_type": "markdown",
   "metadata": {},
   "source": [
    "### <font color = 'red'> MODEL SOLUTION </font>"
   ]
  },
  {
   "cell_type": "code",
   "execution_count": null,
   "metadata": {
    "collapsed": true
   },
   "outputs": [],
   "source": [
    "a = int(input())\n",
    "b = int(input())\n",
    "\n",
    "if a < b:\n",
    "    print(a)\n",
    "else:\n",
    "    print(b)"
   ]
  },
  {
   "cell_type": "markdown",
   "metadata": {},
   "source": [
    "## <font color = 'blue'> Sign Function </font>\n",
    "\n",
    "For the given integer X, print:\n",
    "* 1 if it's positive,\n",
    "* -1 if it's negative, or\n",
    "* 0 if it's equal to zero.\n",
    "\n",
    "Try to use the cascade **if-elif-else** for it.\n",
    "\n",
    "In all the problems input the data using **input()** and print the result using **print()**."
   ]
  },
  {
   "cell_type": "code",
   "execution_count": 2,
   "metadata": {},
   "outputs": [
    {
     "name": "stdout",
     "output_type": "stream",
     "text": [
      "179\n",
      "1\n"
     ]
    }
   ],
   "source": [
    "x = int(input())\n",
    "\n",
    "if x > 0:\n",
    "    print(1)\n",
    "elif x < 0:\n",
    "    print(-1)\n",
    "else:\n",
    "    print(0)"
   ]
  },
  {
   "cell_type": "markdown",
   "metadata": {},
   "source": [
    "### <font color = 'red'> MODEL SOLUTION </font>"
   ]
  },
  {
   "cell_type": "code",
   "execution_count": 3,
   "metadata": {},
   "outputs": [
    {
     "name": "stdout",
     "output_type": "stream",
     "text": [
      "179\n",
      "1\n"
     ]
    }
   ],
   "source": [
    "x = int(input())\n",
    "\n",
    "if x > 0:\n",
    "    print(1)\n",
    "elif x == 0:\n",
    "    print(0)\n",
    "else:\n",
    "    print(-1)"
   ]
  },
  {
   "cell_type": "markdown",
   "metadata": {
    "collapsed": true
   },
   "source": [
    "## <font color = 'blue'> Minimum of Three Numbers </font>\n",
    "\n",
    "Given three integers, print the smallest value.\n",
    "\n",
    "In all the problems input the data using **input()** and print the result using **print()**."
   ]
  },
  {
   "cell_type": "code",
   "execution_count": 4,
   "metadata": {},
   "outputs": [
    {
     "name": "stdout",
     "output_type": "stream",
     "text": [
      "5\n",
      "3\n",
      "7\n",
      "3\n"
     ]
    }
   ],
   "source": [
    "num1 = int(input())\n",
    "num2 = int(input())\n",
    "num3 = int(input())\n",
    "\n",
    "if num1 < num2 and num1 < num3:\n",
    "    print(num1)\n",
    "elif num2 < num3:\n",
    "    print(num2)\n",
    "else:\n",
    "    print(num3)"
   ]
  },
  {
   "cell_type": "markdown",
   "metadata": {},
   "source": [
    "### <font color = 'red'> MODEL SOLUTION </font>"
   ]
  },
  {
   "cell_type": "code",
   "execution_count": 5,
   "metadata": {},
   "outputs": [
    {
     "name": "stdout",
     "output_type": "stream",
     "text": [
      "5\n",
      "3\n",
      "7\n",
      "3\n"
     ]
    }
   ],
   "source": [
    "a = int(input())\n",
    "b = int(input())\n",
    "c = int(input())\n",
    "\n",
    "if b >= a <= c:\n",
    "    print(a)\n",
    "elif a >= b <= c:\n",
    "    print(b)\n",
    "else:\n",
    "    print(c)"
   ]
  },
  {
   "cell_type": "markdown",
   "metadata": {},
   "source": [
    "## <font color = 'blue'> Equal Numbers </font>\n",
    "\n",
    "Given three integers, determine how many of them are equal to each other. The program must print one of these numbers:\n",
    "* 3 (if all are the same),\n",
    "* 2 (if two of them are equal to each other and the third is different) or\n",
    "* 0 (if all numbers are different).\n",
    "\n",
    "In all the problems input the data using **input()** and print the result using **print()**."
   ]
  },
  {
   "cell_type": "code",
   "execution_count": 7,
   "metadata": {},
   "outputs": [
    {
     "name": "stdout",
     "output_type": "stream",
     "text": [
      "10\n",
      "5\n",
      "10\n",
      "2\n"
     ]
    }
   ],
   "source": [
    "int1 = int(input())\n",
    "int2 = int(input())\n",
    "int3 = int(input())\n",
    "\n",
    "if int1 == int2 == int3:\n",
    "    print(3)\n",
    "elif int1 == int2 and int1 != int3:\n",
    "    print(2)\n",
    "elif int1 != int2 and int1 == int3:\n",
    "    print(2)\n",
    "elif int2 == int3:\n",
    "    print(2)\n",
    "else:\n",
    "    print(0)"
   ]
  },
  {
   "cell_type": "markdown",
   "metadata": {},
   "source": [
    "### <font color = 'red'> MODEL SOLUTION </font>"
   ]
  },
  {
   "cell_type": "code",
   "execution_count": 8,
   "metadata": {},
   "outputs": [
    {
     "name": "stdout",
     "output_type": "stream",
     "text": [
      "10\n",
      "5\n",
      "10\n",
      "2\n"
     ]
    }
   ],
   "source": [
    "a = int(input())\n",
    "b = int(input())\n",
    "c = int(input())\n",
    "\n",
    "if a == b == c:\n",
    "    print(3)\n",
    "elif a == b or b == c or a == c:\n",
    "    print(2)\n",
    "else:\n",
    "    print(0)"
   ]
  },
  {
   "cell_type": "markdown",
   "metadata": {},
   "source": [
    "## <font color = 'blue'> Rook Move </font>\n",
    "\n",
    "Chess rook moves horizontally or vertically. Given two different cells of the chessboard, determine whether a rook can go from the first cell to the second in one move.\n",
    "\n",
    "The program receives the input of four numbers from 1 to 8, each specifying the column and row number\n",
    "1. first two - for the first cell, and then the\n",
    "2. last two - for the second cell.\n",
    "\n",
    "The program should output **YES** if a rook can go from the first cell to the second in one move, or **NO** otherwise.\n",
    "\n",
    "In all the problems input the data using **input()** and print the result using **print()**."
   ]
  },
  {
   "cell_type": "code",
   "execution_count": 9,
   "metadata": {},
   "outputs": [
    {
     "name": "stdout",
     "output_type": "stream",
     "text": [
      "4\n",
      "4\n",
      "5\n",
      "5\n",
      "NO\n"
     ]
    }
   ],
   "source": [
    "# Given two different cells\n",
    "# i.e. Inputs of four numbers from 1 to 8, each specifying column and row number\n",
    "# First two - for cell 1; Last two - for cell 2\n",
    "\n",
    "# Inputs for cell 1\n",
    "c1 = int(input())\n",
    "r1 = int(input())\n",
    "\n",
    "# Inputs for cell 2\n",
    "c2 = int(input())\n",
    "r2 = int(input())\n",
    "\n",
    "# Conditional statements\n",
    "if c1 == c2 or r1 == r2:\n",
    "    print(\"YES\")\n",
    "else:\n",
    "    print(\"NO\")"
   ]
  },
  {
   "cell_type": "markdown",
   "metadata": {},
   "source": [
    "### <font color = 'red'> MODEL SOLUTION </font>"
   ]
  },
  {
   "cell_type": "code",
   "execution_count": 10,
   "metadata": {},
   "outputs": [
    {
     "name": "stdout",
     "output_type": "stream",
     "text": [
      "4\n",
      "4\n",
      "5\n",
      "5\n",
      "NO\n"
     ]
    }
   ],
   "source": [
    "x1 = int(input())\n",
    "y1 = int(input())\n",
    "x2 = int(input())\n",
    "y2 = int(input())\n",
    "\n",
    "if x1 == x2 or y1 == y2:\n",
    "    print('YES')\n",
    "else:\n",
    "    print('NO')"
   ]
  },
  {
   "cell_type": "markdown",
   "metadata": {},
   "source": [
    "## <font color = 'blue'> Chess Board - Same Color </font>\n",
    "\n",
    "Given two cells of a chessboard. If they are painted in one color, print the word YES, and if in a different color - NO.\n",
    "\n",
    "The program receives the input of four numbers from 1 to 8, each specifying the column and row number, first two - for the first cell, and then the last two - for the second cell.\n",
    "\n",
    "In all the problems input the data using **input()** and print the result using **print()**."
   ]
  },
  {
   "cell_type": "code",
   "execution_count": 12,
   "metadata": {},
   "outputs": [
    {
     "name": "stdout",
     "output_type": "stream",
     "text": [
      "2\n",
      "2\n",
      "2\n",
      "5\n",
      "NO\n"
     ]
    }
   ],
   "source": [
    "# Inputs for cell 1\n",
    "c1 = int(input())\n",
    "r1 = int(input())\n",
    "\n",
    "# Inputs for cell 2\n",
    "c2 = int(input())\n",
    "r2 = int(input())\n",
    "\n",
    "# Conditional statements\n",
    "if (c1 + c2) % 2 != 0 and (r1 + r2) % 2 != 0:\n",
    "    print(\"YES\")\n",
    "elif (c1 + c2) % 2 == 0 and (r1 + r2) % 2 == 0:\n",
    "    print(\"YES\")\n",
    "else:\n",
    "    print(\"NO\")"
   ]
  },
  {
   "cell_type": "markdown",
   "metadata": {},
   "source": [
    "### <font color = 'red'> MODEL SOLUTION </font>"
   ]
  },
  {
   "cell_type": "code",
   "execution_count": 13,
   "metadata": {},
   "outputs": [
    {
     "name": "stdout",
     "output_type": "stream",
     "text": [
      "2\n",
      "2\n",
      "2\n",
      "5\n",
      "NO\n"
     ]
    }
   ],
   "source": [
    "x1 = int(input())\n",
    "y1 = int(input())\n",
    "x2 = int(input())\n",
    "y2 = int(input())\n",
    "\n",
    "if (x1 + y1 + x2 + y2) % 2 == 0:\n",
    "    print('YES')\n",
    "else:\n",
    "    print('NO')"
   ]
  },
  {
   "cell_type": "markdown",
   "metadata": {},
   "source": [
    "## <font color = 'blue'> King Move </font>\n",
    "\n",
    "Chess king moves horizontally, vertically or diagonally to any adjacent cell. Given two different cells of the chessboard, determine whether a king can go from the first cell to the second in one move.\n",
    "\n",
    "The program receives the input of four numbers from 1 to 8, each specifying the column and row number, first two - for the first cell, and then the last two - for the second cell.\n",
    "\n",
    "The program should output YES if a king can go from the first cell to the second in one move, or NO otherwise.\n",
    "\n",
    "In all the problems input the data using **input()** and print the result using **print()**."
   ]
  },
  {
   "cell_type": "code",
   "execution_count": 14,
   "metadata": {},
   "outputs": [
    {
     "name": "stdout",
     "output_type": "stream",
     "text": [
      "4\n",
      "4\n",
      "5\n",
      "5\n",
      "YES\n"
     ]
    }
   ],
   "source": [
    "# Inputs for cell 1\n",
    "c1 = int(input())\n",
    "r1 = int(input())\n",
    "\n",
    "# Inputs for cell 2\n",
    "c2 = int(input())\n",
    "r2 = int(input())\n",
    "\n",
    "# Conditional statements\n",
    "if abs(c1 - c2) == 1 and abs(r1 - r2) == 1: # For diagonal moves\n",
    "    print(\"YES\")\n",
    "elif abs(c1 - c2) == 0 and abs(r1 - r2) == 1: # For up-down moves (same column, changing rows)\n",
    "    print(\"YES\")\n",
    "elif abs(c1 - c2) == 1 and abs(r1 - r2) == 0: # For left-right moves (same row, changing columns)\n",
    "    print(\"YES\")\n",
    "else:\n",
    "    print(\"NO\")"
   ]
  },
  {
   "cell_type": "markdown",
   "metadata": {},
   "source": [
    "### <font color = 'red'> MODEL SOLUTION </font>"
   ]
  },
  {
   "cell_type": "code",
   "execution_count": 15,
   "metadata": {},
   "outputs": [
    {
     "name": "stdout",
     "output_type": "stream",
     "text": [
      "4\n",
      "4\n",
      "5\n",
      "5\n",
      "YES\n"
     ]
    }
   ],
   "source": [
    "x1 = int(input())\n",
    "y1 = int(input())\n",
    "x2 = int(input())\n",
    "y2 = int(input())\n",
    "\n",
    "if abs(x1 - x2) <= 1 and abs(y1 - y2) <= 1:\n",
    "    print('YES')\n",
    "else:\n",
    "    print('NO')"
   ]
  },
  {
   "cell_type": "markdown",
   "metadata": {},
   "source": [
    "## <font color = 'blue'> Bishop Moves </font>\n",
    "\n",
    "In chess, the bishop moves diagonally, any number of squares. Given two different squares of the chessboard, determine whether a bishop can go from the first to the second in one move.\n",
    "\n",
    "The program receives as input four numbers from 1 to 8, specifying the column and row numbers of the starting square and the column and row numbers of the ending square.\n",
    "\n",
    "The program should output YES if a Bishop can go from the first square to the second in one move, or NO otherwise.\n",
    "\n",
    "In all the problems input the data using **input()** and print the result using **print()**."
   ]
  },
  {
   "cell_type": "code",
   "execution_count": 2,
   "metadata": {},
   "outputs": [
    {
     "name": "stdout",
     "output_type": "stream",
     "text": [
      "4\n",
      "4\n",
      "5\n",
      "5\n",
      "YES\n"
     ]
    }
   ],
   "source": [
    "# Inputs for cell 1\n",
    "c1 = int(input())\n",
    "r1 = int(input())\n",
    "\n",
    "# Inputs for cell 2\n",
    "c2 = int(input())\n",
    "r2 = int(input())\n",
    "\n",
    "# Conditional statements\n",
    "# Two conditions to be fulfilled for a bishop move\n",
    "# 1. The absolute difference between the two columns and the two rows are the same\n",
    "# 2. Column1 != Column2 and Row1 != Row2\n",
    "if abs(c2 - c1) == abs(r2 - r1) and c1 != c2 and r1 != r2:\n",
    "    print(\"YES\")\n",
    "else:\n",
    "    print(\"NO\")"
   ]
  },
  {
   "cell_type": "markdown",
   "metadata": {},
   "source": [
    "### <font color = 'red'> MODEL SOLUTION </font>"
   ]
  },
  {
   "cell_type": "code",
   "execution_count": null,
   "metadata": {
    "collapsed": true
   },
   "outputs": [],
   "source": [
    "x1 = int(input())\n",
    "y1 = int(input())\n",
    "x2 = int(input())\n",
    "y2 = int(input())\n",
    "\n",
    "if abs(x1 - x2) == abs(y1 - y2):\n",
    "    print('YES')\n",
    "else:\n",
    "    print('NO')"
   ]
  },
  {
   "cell_type": "markdown",
   "metadata": {
    "collapsed": true
   },
   "source": [
    "## <font color = 'blue'> Queen Move </font>\n",
    "\n",
    "Chess queen moves horizontally, vertically or diagonally to any number of cells. Given two different cells of the chessboard, determine whether a queen can go from the first cell to the second in one move.\n",
    "\n",
    "The program receives the input of four numbers from 1 to 8, each specifying the column and row number, first two - for the first cell, and then the last two - for the second cell.\n",
    "\n",
    "The program should output YES if a queen can go from the first cell to the second in one move, or NO otherwise.\n",
    "\n",
    "**Basically : Queen move fulfills both the conditions for rook's and bishop's moves.**\n",
    "\n",
    "In all the problems input the data using **input()** and print the result using **print()**."
   ]
  },
  {
   "cell_type": "code",
   "execution_count": 3,
   "metadata": {},
   "outputs": [
    {
     "name": "stdout",
     "output_type": "stream",
     "text": [
      "1\n",
      "1\n",
      "2\n",
      "2\n",
      "YES\n"
     ]
    }
   ],
   "source": [
    "# Inputs for cell 1\n",
    "c1 = int(input())\n",
    "r1 = int(input())\n",
    "\n",
    "# Inputs for cell 2\n",
    "c2 = int(input())\n",
    "r2 = int(input())\n",
    "\n",
    "# Conditional statements\n",
    "if abs(c1 - c2) == abs(r1 - r2) or c1 == c2 or r1 == r2:\n",
    "    print(\"YES\")\n",
    "else:\n",
    "    print(\"NO\")"
   ]
  },
  {
   "cell_type": "markdown",
   "metadata": {},
   "source": [
    "### <font color = 'red'> MODEL SOLUTION </font>"
   ]
  },
  {
   "cell_type": "code",
   "execution_count": 4,
   "metadata": {},
   "outputs": [
    {
     "name": "stdout",
     "output_type": "stream",
     "text": [
      "1\n",
      "1\n",
      "2\n",
      "2\n",
      "YES\n"
     ]
    }
   ],
   "source": [
    "x1 = int(input())\n",
    "y1 = int(input())\n",
    "x2 = int(input())\n",
    "y2 = int(input())\n",
    "\n",
    "# Basically a queen's move is the combination of both the bishop's and rook's moves.\n",
    "if abs(x1 - x2) == abs(y1 - y2) or x1 == x2 or y1 == y2:\n",
    "    print('YES')\n",
    "else:\n",
    "    print('NO')"
   ]
  },
  {
   "cell_type": "markdown",
   "metadata": {},
   "source": [
    "## <font color = 'blue'> Knight Move </font>\n",
    "\n",
    "Chess knight moves like the letter L. It can move\n",
    "* two cells horizontally and one cell vertically, or\n",
    "* two cells vertically and one cells horizontally.\n",
    "\n",
    "Given two different cells of the chessboard, determine whether a knight can go from the first cell to the second in one move.\n",
    "\n",
    "The program receives the input of four numbers from 1 to 8, each specifying the column and row number, first two - for the first cell, and then the last two - for the second cell.\n",
    "\n",
    "The program should output YES if a knight can go from the first cell to the second in one move, or NO otherwise.\n",
    "\n",
    "In all the problems input the data using **input()** and print the result using **print()**."
   ]
  },
  {
   "cell_type": "code",
   "execution_count": 5,
   "metadata": {},
   "outputs": [
    {
     "name": "stdout",
     "output_type": "stream",
     "text": [
      "5\n",
      "2\n",
      "4\n",
      "4\n",
      "YES\n"
     ]
    }
   ],
   "source": [
    "# Inputs for cell 1\n",
    "c1 = int(input())\n",
    "r1 = int(input())\n",
    "\n",
    "# Inputs for cell 2\n",
    "c2 = int(input())\n",
    "r2 = int(input())\n",
    "\n",
    "# Conditional statements\n",
    "if abs(c2 - c1) == 2 and abs(r2 - r1) == 1:\n",
    "    print(\"YES\")\n",
    "elif abs(r2 - r1) == 2 and abs(c2 - c1) == 1:\n",
    "    print(\"YES\")\n",
    "else:\n",
    "    print(\"NO\")"
   ]
  },
  {
   "cell_type": "markdown",
   "metadata": {},
   "source": [
    "### <font color = 'red'> MODEL SOLUTION </font>"
   ]
  },
  {
   "cell_type": "code",
   "execution_count": 6,
   "metadata": {},
   "outputs": [
    {
     "name": "stdout",
     "output_type": "stream",
     "text": [
      "5\n",
      "2\n",
      "4\n",
      "4\n",
      "YES\n"
     ]
    }
   ],
   "source": [
    "x1 = int(input())\n",
    "y1 = int(input())\n",
    "x2 = int(input())\n",
    "y2 = int(input())\n",
    "\n",
    "dx = abs(x1 - x2)\n",
    "dy = abs(y1 - y2)\n",
    "\n",
    "if dx == 1 and dy == 2 or dx == 2 and dy == 1:\n",
    "    print('YES')\n",
    "else:\n",
    "    print('NO')"
   ]
  },
  {
   "cell_type": "markdown",
   "metadata": {},
   "source": [
    "## <font color = 'blue'> Chocolate Bar </font>\n",
    "\n",
    "Chocolate bar has the form of a rectangle divided into n×m portions.\n",
    "\n",
    "Chocolate bar can be split into two rectangular parts by breaking it along a selected straight line on its pattern. Determine whether it is possible to split it so that one of the parts will have exactly k squares.\n",
    "\n",
    "The program reads three integers: n, m, and k. It should print **YES** or **NO**.\n",
    "\n",
    "In all the problems input the data using **input()** and print the result using **print()**."
   ]
  },
  {
   "cell_type": "code",
   "execution_count": null,
   "metadata": {},
   "outputs": [],
   "source": [
    "n = int(input())\n",
    "m = int(input())\n",
    "k = int(input())\n",
    "\n",
    "if (n * m) % k == 0:\n",
    "    print(\"YES\")\n",
    "else:\n",
    "    print(\"NO\")"
   ]
  },
  {
   "cell_type": "code",
   "execution_count": null,
   "metadata": {
    "collapsed": true
   },
   "outputs": [],
   "source": [
    "# TEST CELL 1\n",
    "n = int(input())\n",
    "m = int(input())\n",
    "k = int(input())\n",
    "\n",
    "# Conditional statements"
   ]
  },
  {
   "cell_type": "markdown",
   "metadata": {},
   "source": [
    "### <font color = 'red'> MODEL SOLUTION </font>"
   ]
  },
  {
   "cell_type": "code",
   "execution_count": null,
   "metadata": {
    "collapsed": true
   },
   "outputs": [],
   "source": []
  },
  {
   "cell_type": "code",
   "execution_count": null,
   "metadata": {
    "collapsed": true
   },
   "outputs": [],
   "source": []
  },
  {
   "cell_type": "code",
   "execution_count": null,
   "metadata": {
    "collapsed": true
   },
   "outputs": [],
   "source": []
  },
  {
   "cell_type": "code",
   "execution_count": null,
   "metadata": {
    "collapsed": true
   },
   "outputs": [],
   "source": []
  },
  {
   "cell_type": "code",
   "execution_count": null,
   "metadata": {
    "collapsed": true
   },
   "outputs": [],
   "source": []
  },
  {
   "cell_type": "code",
   "execution_count": null,
   "metadata": {
    "collapsed": true
   },
   "outputs": [],
   "source": []
  }
 ],
 "metadata": {
  "anaconda-cloud": {},
  "kernelspec": {
   "display_name": "Python [Root]",
   "language": "python",
   "name": "Python [Root]"
  },
  "language_info": {
   "codemirror_mode": {
    "name": "ipython",
    "version": 3
   },
   "file_extension": ".py",
   "mimetype": "text/x-python",
   "name": "python",
   "nbconvert_exporter": "python",
   "pygments_lexer": "ipython3",
   "version": "3.5.2"
  }
 },
 "nbformat": 4,
 "nbformat_minor": 1
}
